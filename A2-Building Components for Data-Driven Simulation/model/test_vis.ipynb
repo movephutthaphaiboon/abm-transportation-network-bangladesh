{
 "cells": [
  {
   "metadata": {},
   "cell_type": "code",
   "outputs": [],
   "execution_count": null,
   "source": [
    "import pandas as pd\n",
    "import matplotlib.pyplot as plt\n",
    "from matplotlib.pyplot import boxplot, savefig\n",
    "\n",
    "#import seaborn as sns\n",
    "\n",
    "\n",
    "csv_files = ['../experiment/scenario0.csv', '../experiment/scenario1.csv', '../experiment/scenario2.csv',\n",
    "             '../experiment/scenario3.csv', '../experiment/scenario4.csv', '../experiment/scenario5.csv',\n",
    "             '../experiment/scenario6.csv', '../experiment/scenario7.csv', '../experiment/scenario8.csv']\n",
    "\n",
    "\n"
   ],
   "id": "ce1dc65236f594a9"
  },
  {
   "metadata": {},
   "cell_type": "code",
   "outputs": [],
   "execution_count": null,
   "source": [
    "data_list = []\n",
    "data_list_aux = []\n",
    "\n",
    "for file in csv_files[]:\n",
    "    df = pd.read_csv(file)\n",
    "\n",
    "    #data_list.append((df['Average_driving_time'] / 60).tolist())\n",
    "\n",
    "    serie=df['Broken_bridges']\n",
    "    print(serie)\n",
    "\n"
   ],
   "id": "b245fc48aea7fbde"
  },
  {
   "metadata": {},
   "cell_type": "code",
   "outputs": [],
   "execution_count": null,
   "source": [
    "    non_nan=serie.dropna().count()\n",
    "non_nan"
   ],
   "id": "cd501f77cab2f129"
  },
  {
   "metadata": {},
   "cell_type": "code",
   "outputs": [],
   "execution_count": null,
   "source": "df = pd.read_csv('../experiment/scenario3.csv')",
   "id": "fc125d606e9c7485"
  },
  {
   "metadata": {},
   "cell_type": "code",
   "outputs": [],
   "execution_count": null,
   "source": [
    "serie=df['Broken_bridges']\n",
    "serie"
   ],
   "id": "b4cafda000d2239a"
  },
  {
   "metadata": {},
   "cell_type": "code",
   "outputs": [],
   "execution_count": null,
   "source": "serie.dropna()",
   "id": "c990b9e8f9ebd5c5"
  },
  {
   "metadata": {},
   "cell_type": "code",
   "outputs": [],
   "execution_count": null,
   "source": [
    "def count_non_nan_elements(row):\n",
    "    if all(pd.isna(row)):\n",
    "        return 0\n",
    "    return sum(~pd.isna(row))"
   ],
   "id": "425a0b878dd74db0"
  },
  {
   "metadata": {},
   "cell_type": "code",
   "outputs": [],
   "execution_count": null,
   "source": "df['Broken_bridges'].apply(count_non_nan_elements)",
   "id": "5f34bf1d289eff2e"
  }
 ],
 "metadata": {},
 "nbformat": 5,
 "nbformat_minor": 9
}
